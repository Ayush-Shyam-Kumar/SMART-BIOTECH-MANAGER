{
 "cells": [
  {
   "cell_type": "code",
   "execution_count": 5,
   "metadata": {},
   "outputs": [],
   "source": [
    "#importing pkg\n",
    "import collections\n",
    "from collections import OrderedDict\n",
    "from matplotlib import pyplot as plt\n",
    "from matplotlib import cm\n",
    "import pylab\n",
    "import math\n",
    "import cv2\n",
    "\n",
    "#importing fasta file NC_012920.1 Homo sapiens mitochondrion\n",
    "f = open(\"COP1.FASTA\")\n",
    "#reading the file\n",
    "s1 = f.read()\n",
    "#storing the data into one single string\n",
    "data = \"\".join(s1.split(\"\\n\")[1:])\n",
    " \n",
    "# count_kmer function splits the data string into dictionary of k-mer with its frequencies     \n",
    "def count_kmers(sequence, k):\n",
    "    \"\"\" The Python defaultdict type behaves almost exactly like a regular Python dictionary,\n",
    "    but if you try to access or modify a missing key, then defaultdict will automatically\n",
    "    create the key and generate a default value for it. \n",
    "    This makes defaultdict a valuable option for handling missing keys in dictionaries.\"\"\"\n",
    "    d = collections.defaultdict(int)\n",
    "    for i in range(len(data)-(k-1)):\n",
    "        # storing the k-mer and its corresponding frequency in d \n",
    "        d[sequence[i:i+k]] +=1 \n",
    "        \n",
    "    \"\"\"for i in d.copy():\n",
    "        if \"N\" in i:\n",
    "            del d[i]\"\"\"\n",
    "    return d\n",
    "# finding the probability of each kmer \n",
    "def probabilities(kmer_count, k):\n",
    "    probabilities = collections.defaultdict(float)\n",
    "    N = len(data)\n",
    "    for key, value in kmer_count.items():\n",
    "        # probability = freq(kmer)/total number of kmer \n",
    "        probabilities[key] = float(value) / (N - k + 1)\n",
    "    return probabilities\n",
    "\n"
   ]
  },
  {
   "cell_type": "raw",
   "metadata": {},
   "source": [
    "1) Start from position (0,0) or the origin of two dimensional coordinate\n",
    "2) Four nucleotides are located at the four corners:\n",
    "    - A: (-1, 1) upper left\n",
    "    - T: (1, -1) lower right\n",
    "    - G: (1, 1) upper right\n",
    "    - C: (-1, -1) lower left\n",
    "3) For each nucleotide (in reverse order to match k-mer table; i.e., match forward Markov chain), \n",
    "   move and mark the new location which is halfway between the current location and the nucleotide. \n",
    "   For example, if the last letter is T, position is moved from (0,0) to midpoint between (1, -1) \n",
    "   and (0,0), which is (0.5, -0.5)\n",
    "\n",
    "Repeat this procedure for all nucleotides."
   ]
  },
  {
   "cell_type": "code",
   "execution_count": 7,
   "metadata": {},
   "outputs": [
    {
     "data": {
      "image/png": "[encoded data removed]",
      "text/plain": [
       "<Figure size 432x288 with 1 Axes>"
      ]
     },
     "metadata": {
      "needs_background": "light"
     },
     "output_type": "display_data"
    },
    {
     "data": {
      "image/png": "[encoded data removed]",
      "text/plain": [
       "<Figure size 432x288 with 1 Axes>"
      ]
     },
     "metadata": {
      "needs_background": "light"
     },
     "output_type": "display_data"
    }
   ],
   "source": [
    "def chaos_game_representation(probabilities, k):\n",
    "    array_size = int(math.sqrt(4**k))\n",
    "    chaos = []\n",
    "    for i in range(array_size):\n",
    "        chaos.append([0]*array_size)\n",
    " \n",
    "    maxx = int(array_size)\n",
    "    maxy = int(array_size)\n",
    "    posx = 1\n",
    "    posy = 1\n",
    "    for key, value in probabilities.items():\n",
    "        for char in key:\n",
    "            if char == \"T\":\n",
    "                posx += int(maxx / 2)\n",
    "            elif char == \"C\":\n",
    "                posy += int(maxy / 2)\n",
    "            elif char == \"G\":\n",
    "                posx += int(maxx / 2)\n",
    "                posy += int(maxy / 2)\n",
    "            maxx = maxx / 2\n",
    "            maxy /= 2\n",
    "        chaos[posy-1][posx-1] = value\n",
    "        maxx = array_size\n",
    "        maxy = array_size\n",
    "        posx = 1\n",
    "        posy = 1\n",
    " \n",
    "    return chaos\n",
    "f3 = count_kmers(data, 9)\n",
    "f4 = count_kmers(data, 4)\n",
    " \n",
    "f3_prob = probabilities(f3, 9)\n",
    "f4_prob = probabilities(f4, 4)\n",
    " \n",
    "chaos_k3 = chaos_game_representation(f3_prob, 9)\n",
    "pylab.title('Chaos game representation for 3-mers')\n",
    "pylab.imshow(chaos_k3, interpolation='nearest', cmap=cm.gray_r)\n",
    "pylab.show()\n",
    " \n",
    "chaos_k4 = chaos_game_representation(f4_prob, 4)\n",
    "pylab.title('Chaos game representation for 4-mers')\n",
    "pylab.imshow(chaos_k4, interpolation='nearest', cmap=cm.gray_r)\n",
    "pylab.show()"
   ]
  },
  {
   "cell_type": "code",
   "execution_count": null,
   "metadata": {},
   "outputs": [],
   "source": [
    "#count_kmers(data, 4)"
   ]
  },
  {
   "cell_type": "code",
   "execution_count": null,
   "metadata": {},
   "outputs": [],
   "source": []
  },
  {
   "cell_type": "code",
   "execution_count": null,
   "metadata": {},
   "outputs": [],
   "source": []
  },
  {
   "cell_type": "code",
   "execution_count": null,
   "metadata": {},
   "outputs": [],
   "source": []
  }
 ],
 "metadata": {
  "kernelspec": {
   "display_name": "Python 3",
   "language": "python",
   "name": "python3"
  },
  "language_info": {
   "codemirror_mode": {
    "name": "ipython",
    "version": 3
   },
   "file_extension": ".py",
   "mimetype": "text/x-python",
   "name": "python",
   "nbconvert_exporter": "python",
   "pygments_lexer": "ipython3",
   "version": "3.7.4"
  }
 },
 "nbformat": 4,
 "nbformat_minor": 4
}
