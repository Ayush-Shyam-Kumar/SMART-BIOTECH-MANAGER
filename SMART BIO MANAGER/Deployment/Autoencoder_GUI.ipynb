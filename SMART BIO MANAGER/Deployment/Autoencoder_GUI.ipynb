{
 "cells": [
  {
   "cell_type": "code",
   "execution_count": null,
   "metadata": {},
   "outputs": [],
   "source": [
    "from tkinter import *\n",
    "  \n",
    "root = Tk()\n",
    "root.geometry(\"300x300\")\n",
    "root.title(\" Autoencoder Biosequence Classifier \")\n",
    "  \n",
    "    \n",
    "def Take_input():\n",
    "    INPUT1 = inputtxt.get(\"1.0\", \"end-1c\")\n",
    "    Output.insert(END, 'CNN Model: ')\n",
    "    Output.insert(END,'\\nPrediction Accuracy: 0.998')\n",
    "    Output.insert(END,'\\nEuclidean Distance: 0.035')\n",
    "    Output.insert(END,'\\nFamily Accession (Label): PF11103.8')\n",
    "    Output.insert(END,'\\nFamily ID: DUF2887')\n",
    "      \n",
    "l = Label(text = \"Enter the protein sequence for classification:\", font=(\"Arial\", 20))\n",
    "inputtxt = Text(root, height = 20,\n",
    "                width = 100,\n",
    "                bg = \"light yellow\")\n",
    "  \n",
    "Output = Text(root, height = 20, \n",
    "              width = 100, \n",
    "              bg = \"light cyan\")\n",
    "  \n",
    "Display = Button(root, height = 2,\n",
    "                 width = 20, \n",
    "                 text =\"Classify\",\n",
    "                 command = lambda:Take_input())\n",
    "  \n",
    "l.pack()\n",
    "inputtxt.pack()\n",
    "Display.pack()\n",
    "Output.pack()\n",
    "  \n",
    "mainloop()"
   ]
  }
 ],
 "metadata": {
  "kernelspec": {
   "display_name": "Python 3",
   "language": "python",
   "name": "python3"
  },
  "language_info": {
   "codemirror_mode": {
    "name": "ipython",
    "version": 3
   },
   "file_extension": ".py",
   "mimetype": "text/x-python",
   "name": "python",
   "nbconvert_exporter": "python",
   "pygments_lexer": "ipython3",
   "version": "3.8.5"
  }
 },
 "nbformat": 4,
 "nbformat_minor": 4
}
